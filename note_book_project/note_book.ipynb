{
 "cells": [
  {
   "cell_type": "markdown",
   "id": "480a25ed",
   "metadata": {},
   "source": [
    "# Préparation des données "
   ]
  },
  {
   "cell_type": "code",
   "execution_count": 8,
   "id": "35f6e535",
   "metadata": {},
   "outputs": [
    {
     "name": "stdout",
     "output_type": "stream",
     "text": [
      "Précision du modèle : 0.4444444444444444\n"
     ]
    }
   ],
   "source": [
    "import pandas as pd\n",
    "from sklearn.feature_extraction.text import TfidfVectorizer\n",
    "from sklearn.naive_bayes import MultinomialNB\n",
    "from sklearn.model_selection import train_test_split\n",
    "from sklearn.metrics import accuracy_score\n",
    "\n",
    "# Charger les données depuis un fichier Excel (XLSX)\n",
    "df = pd.read_excel(\"Classeur.xlsx\")\n",
    "\n",
    "# Remplacez \"votre_fichier.xlsx\" par le chemin complet de votre fichier Excel.\n",
    "\n",
    "# Définir les noms de colonnes pour les données et les labels\n",
    "data_column_name = \"description\"  # Remplacez par le nom de votre colonne de descriptions\n",
    "labels_column_name = \"category\"   # Remplacez par le nom de votre colonne de catégories\n",
    "\n",
    "# Séparer les données en fonction des colonnes spécifiées\n",
    "X = df[data_column_name]\n",
    "y = df[labels_column_name]\n",
    "\n",
    "# Diviser les données en ensembles d'apprentissage et de test\n",
    "X_train, X_test, y_train, y_test = train_test_split(X, y, test_size=0.2, random_state=42)\n",
    "\n",
    "# Créer un vecteur TF-IDF des descriptions\n",
    "tfidf_vectorizer = TfidfVectorizer()\n",
    "X_train_tfidf = tfidf_vectorizer.fit_transform(X_train)\n",
    "X_test_tfidf = tfidf_vectorizer.transform(X_test)\n",
    "\n",
    "# Créer un modèle Naive Bayes\n",
    "clf = MultinomialNB()\n",
    "\n",
    "# Entraîner le modèle\n",
    "clf.fit(X_train_tfidf, y_train)\n",
    "\n",
    "# Prédire les catégories des dépenses\n",
    "y_pred = clf.predict(X_test_tfidf)\n",
    "\n",
    "# Évaluer les performances\n",
    "accuracy = accuracy_score(y_test, y_pred)\n",
    "print(\"Précision du modèle :\", accuracy)\n"
   ]
  },
  {
   "cell_type": "code",
   "execution_count": 10,
   "id": "4f5cdcbe",
   "metadata": {},
   "outputs": [
    {
     "name": "stdout",
     "output_type": "stream",
     "text": [
      "Model Accuracy: 0.5555555555555556\n"
     ]
    }
   ],
   "source": [
    "import pandas as pd\n",
    "from sklearn.feature_extraction.text import TfidfVectorizer\n",
    "from sklearn.ensemble import RandomForestClassifier  # Import Random Forest\n",
    "from sklearn.model_selection import train_test_split\n",
    "from sklearn.metrics import accuracy_score\n",
    "\n",
    "# Load data from Excel\n",
    "df = pd.read_excel(\"Classeur.xlsx\")\n",
    "\n",
    "# Define column names for data and labels\n",
    "data_column_name = \"description\"\n",
    "labels_column_name = \"category\"\n",
    "\n",
    "# Separate data based on specified columns\n",
    "X = df[data_column_name]\n",
    "y = df[labels_column_name]\n",
    "\n",
    "# Split data into training and testing sets\n",
    "X_train, X_test, y_train, y_test = train_test_split(X, y, test_size=0.2, random_state=42)\n",
    "\n",
    "# Create a TF-IDF vector of descriptions\n",
    "tfidf_vectorizer = TfidfVectorizer()\n",
    "X_train_tfidf = tfidf_vectorizer.fit_transform(X_train)\n",
    "X_test_tfidf = tfidf_vectorizer.transform(X_test)\n",
    "\n",
    "# Create a Random Forest classifier\n",
    "clf = RandomForestClassifier()  # You can set hyperparameters if needed\n",
    "\n",
    "# Train the model\n",
    "clf.fit(X_train_tfidf, y_train)\n",
    "\n",
    "# Predict expense categories\n",
    "y_pred = clf.predict(X_test_tfidf)\n",
    "\n",
    "# Evaluate model performance\n",
    "accuracy = accuracy_score(y_test, y_pred)\n",
    "print(\"Model Accuracy:\", accuracy)\n"
   ]
  },
  {
   "cell_type": "code",
   "execution_count": 11,
   "id": "503a28c3",
   "metadata": {},
   "outputs": [
    {
     "name": "stdout",
     "output_type": "stream",
     "text": [
      "Model Accuracy: 0.6111111111111112\n"
     ]
    }
   ],
   "source": [
    "\n",
    "import pandas as pd\n",
    "from sklearn.feature_extraction.text import TfidfVectorizer\n",
    "from sklearn.svm import SVC  # Import Support Vector Machine Classifier\n",
    "from sklearn.model_selection import train_test_split\n",
    "from sklearn.metrics import accuracy_score\n",
    "\n",
    "# Load data from Excel\n",
    "df = pd.read_excel(\"Classeur.xlsx\")\n",
    "\n",
    "# Define column names for data and labels\n",
    "data_column_name = \"description\"\n",
    "labels_column_name = \"category\"\n",
    "\n",
    "# Separate data based on specified columns\n",
    "X = df[data_column_name]\n",
    "y = df[labels_column_name]\n",
    "\n",
    "# Split data into training and testing sets\n",
    "X_train, X_test, y_train, y_test = train_test_split(X, y, test_size=0.2, random_state=42)\n",
    "\n",
    "# Create a TF-IDF vector of descriptions\n",
    "tfidf_vectorizer = TfidfVectorizer()\n",
    "X_train_tfidf = tfidf_vectorizer.fit_transform(X_train)\n",
    "X_test_tfidf = tfidf_vectorizer.transform(X_test)\n",
    "\n",
    "# Create an SVM classifier\n",
    "clf = SVC()  # You can set hyperparameters if needed\n",
    "\n",
    "# Train the model\n",
    "clf.fit(X_train_tfidf, y_train)\n",
    "\n",
    "# Predict expense categories\n",
    "y_pred = clf.predict(X_test_tfidf)\n",
    "\n",
    "# Evaluate model performance\n",
    "accuracy = accuracy_score(y_test, y_pred)\n",
    "print(\"Model Accuracy:\", accuracy)"
   ]
  },
  {
   "cell_type": "code",
   "execution_count": 12,
   "id": "21383632",
   "metadata": {},
   "outputs": [
    {
     "name": "stdout",
     "output_type": "stream",
     "text": [
      "Model Accuracy: 0.5555555555555556\n"
     ]
    }
   ],
   "source": [
    "import pandas as pd\n",
    "from sklearn.feature_extraction.text import TfidfVectorizer\n",
    "from sklearn.ensemble import RandomForestClassifier  # Import Random Forest Classifier\n",
    "from sklearn.model_selection import train_test_split\n",
    "from sklearn.metrics import accuracy_score\n",
    "\n",
    "# Load data from Excel\n",
    "df = pd.read_excel(\"Classeur.xlsx\")\n",
    "\n",
    "# Define column names for data and labels\n",
    "data_column_name = \"description\"\n",
    "labels_column_name = \"category\"\n",
    "\n",
    "# Separate data based on specified columns\n",
    "X = df[data_column_name]\n",
    "y = df[labels_column_name]\n",
    "\n",
    "# Split data into training and testing sets\n",
    "X_train, X_test, y_train, y_test = train_test_split(X, y, test_size=0.2, random_state=42)\n",
    "\n",
    "# Create a TF-IDF vector of descriptions\n",
    "tfidf_vectorizer = TfidfVectorizer()\n",
    "X_train_tfidf = tfidf_vectorizer.fit_transform(X_train)\n",
    "X_test_tfidf = tfidf_vectorizer.transform(X_test)\n",
    "\n",
    "# Create a Random Forest classifier\n",
    "clf = RandomForestClassifier(n_estimators=100, random_state=42)  # You can adjust hyperparameters as needed\n",
    "\n",
    "# Train the model\n",
    "clf.fit(X_train_tfidf, y_train)\n",
    "\n",
    "# Predict expense categories\n",
    "y_pred = clf.predict(X_test_tfidf)\n",
    "\n",
    "# Evaluate model performance\n",
    "accuracy = accuracy_score(y_test, y_pred)\n",
    "print(\"Model Accuracy:\", accuracy)\n"
   ]
  },
  {
   "cell_type": "code",
   "execution_count": 1,
   "id": "0bd1aec1",
   "metadata": {},
   "outputs": [
    {
     "name": "stdout",
     "output_type": "stream",
     "text": [
      "Model Accuracy: 0.75\n"
     ]
    },
    {
     "data": {
      "text/plain": [
       "['tfidf_vectorizer.pkl']"
      ]
     },
     "execution_count": 1,
     "metadata": {},
     "output_type": "execute_result"
    }
   ],
   "source": [
    "import pandas as pd\n",
    "from sklearn.feature_extraction.text import TfidfVectorizer\n",
    "from sklearn.svm import SVC  # Import Support Vector Machine Classifier\n",
    "from sklearn.model_selection import train_test_split\n",
    "from sklearn.metrics import accuracy_score\n",
    "import joblib  # Import joblib for model saving\n",
    "\n",
    "\n",
    "# Load data from Excel\n",
    "df = pd.read_excel(\"cls.xlsx\")\n",
    "\n",
    "# Define column names for data and labels\n",
    "data_column_name = \"description\"\n",
    "labels_column_name = \"category\"\n",
    "\n",
    "# Separate data based on specified columns\n",
    "X = df[data_column_name]\n",
    "y = df[labels_column_name]\n",
    "\n",
    "# Split data into training and testing sets\n",
    "X_train, X_test, y_train, y_test = train_test_split(X, y, test_size=0.2, random_state=42)\n",
    "\n",
    "# Create a TF-IDF vector of descriptions\n",
    "tfidf_vectorizer = TfidfVectorizer()\n",
    "X_train_tfidf = tfidf_vectorizer.fit_transform(X_train)\n",
    "X_test_tfidf = tfidf_vectorizer.transform(X_test)\n",
    "\n",
    "# Create an SVM classifier\n",
    "clf = SVC()  # You can set hyperparameters if needed\n",
    "\n",
    "# Train the model\n",
    "clf.fit(X_train_tfidf, y_train)\n",
    "\n",
    "# Predict expense categories\n",
    "y_pred = clf.predict(X_test_tfidf)\n",
    "\n",
    "# Evaluate model performance\n",
    "accuracy = accuracy_score(y_test, y_pred)\n",
    "print(\"Model Accuracy:\", accuracy)\n",
    "\n",
    "# Save the trained model to a file\n",
    "joblib.dump(clf, 'trained_model.pkl')\n",
    "\n",
    "# To load the model later, you can use:\n",
    "# loaded_model = joblib.load('trained_model.pkl')\n",
    "\n",
    "# Sauvegardez le vecteur TF-IDF dans un fichier\n",
    "joblib.dump(tfidf_vectorizer, 'tfidf_vectorizer.pkl')"
   ]
  },
  {
   "cell_type": "code",
   "execution_count": null,
   "id": "b74bdc82",
   "metadata": {},
   "outputs": [],
   "source": []
  }
 ],
 "metadata": {
  "kernelspec": {
   "display_name": "Python 3 (ipykernel)",
   "language": "python",
   "name": "python3"
  },
  "language_info": {
   "codemirror_mode": {
    "name": "ipython",
    "version": 3
   },
   "file_extension": ".py",
   "mimetype": "text/x-python",
   "name": "python",
   "nbconvert_exporter": "python",
   "pygments_lexer": "ipython3",
   "version": "3.11.4"
  }
 },
 "nbformat": 4,
 "nbformat_minor": 5
}
